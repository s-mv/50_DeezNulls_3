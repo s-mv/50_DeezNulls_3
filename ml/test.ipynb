{
 "cells": [
  {
   "cell_type": "code",
   "execution_count": 2,
   "metadata": {},
   "outputs": [
    {
     "name": "stdout",
     "output_type": "stream",
     "text": [
      "Resume Rating: 0.0\n"
     ]
    },
    {
     "name": "stderr",
     "output_type": "stream",
     "text": [
      "[nltk_data] Downloading package punkt to /home/smv/nltk_data...\n",
      "[nltk_data]   Package punkt is already up-to-date!\n",
      "[nltk_data] Downloading package stopwords to /home/smv/nltk_data...\n",
      "[nltk_data]   Package stopwords is already up-to-date!\n",
      "[nltk_data] Downloading package vader_lexicon to\n",
      "[nltk_data]     /home/smv/nltk_data...\n",
      "[nltk_data]   Package vader_lexicon is already up-to-date!\n"
     ]
    }
   ],
   "source": [
    "import nltk\n",
    "from nltk.tokenize import word_tokenize\n",
    "from nltk.corpus import stopwords\n",
    "from nltk.sentiment.vader import SentimentIntensityAnalyzer\n",
    "\n",
    "nltk.download('punkt')\n",
    "nltk.download('stopwords')\n",
    "nltk.download('vader_lexicon')\n",
    "\n",
    "def rate_resume(resume_text):\n",
    "    tokens = word_tokenize(resume_text.lower())\n",
    "\n",
    "    stop_words = set(stopwords.words('english'))\n",
    "    filtered_tokens = [word for word in tokens if word.isalnum() and word not in stop_words]\n",
    "\n",
    "    sid = SentimentIntensityAnalyzer()\n",
    "    sentiment_score = sid.polarity_scores(resume_text)['compound']\n",
    "\n",
    "    num_keywords = len(filtered_tokens)\n",
    "    rating = sentiment_score * num_keywords / 10\n",
    "\n",
    "    return rating\n",
    "\n",
    "resume_text = \"\"\"\n",
    "YOUR NAME  YOUR_NAME@gmail.com | (+91) 0000000000  @full-name   /you-full-name  SKILLS  ❖   Java  ❖   HTML, CSS, Javascript  ❖   Python  EDUCATION  ❖   College Branch | College   CGPA :   X.X   |   (Date)  ❖   XII (CBSE) | School   XX.X% |   20XX  EXPERIENCE  ❖   Your Position | Company  (Date)  Work that you did - Technologies  ACADEMIC PROJECTS  ❖   Project Title  Project details  POSITION OF RESPONSIBILITY  ❖   Society Title | Society, College   (Date- Present)  Organized hackathons & conducted sessions for 300+ college students on Web  Development related topics.  ACHIEVEMENTS / HOBBIES  ●   Mention your achievements \n",
    "\"\"\"\n",
    "\n",
    "resume_rating = rate_resume(resume_text)\n",
    "print(\"Resume Rating:\", resume_rating)"
   ]
  }
 ],
 "metadata": {
  "kernelspec": {
   "display_name": "venv",
   "language": "python",
   "name": "python3"
  },
  "language_info": {
   "codemirror_mode": {
    "name": "ipython",
    "version": 3
   },
   "file_extension": ".py",
   "mimetype": "text/x-python",
   "name": "python",
   "nbconvert_exporter": "python",
   "pygments_lexer": "ipython3",
   "version": "3.11.8"
  }
 },
 "nbformat": 4,
 "nbformat_minor": 2
}

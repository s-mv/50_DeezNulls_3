{
 "cells": [
  {
   "cell_type": "code",
   "execution_count": 56,
   "metadata": {},
   "outputs": [
    {
     "name": "stderr",
     "output_type": "stream",
     "text": [
      "[nltk_data] Downloading package stopwords to /home/smv/nltk_data...\n",
      "[nltk_data]   Package stopwords is already up-to-date!\n"
     ]
    }
   ],
   "source": [
    "import pandas as pd\n",
    "import numpy as np\n",
    "import matplotlib.pyplot as plt\n",
    "# import seaborn as sns\n",
    "import re\n",
    "import nltk\n",
    "nltk.download('stopwords')\n",
    "from nltk.corpus import stopwords\n",
    "from nltk.stem.porter import PorterStemmer\n",
    "from sklearn.feature_extraction.text import CountVectorizer\n",
    "from sklearn.model_selection import train_test_split\n",
    "from sklearn.naive_bayes import GaussianNB\n",
    "from sklearn.metrics import confusion_matrix, accuracy_score, classification_report, roc_curve, auc, roc_auc_score, precision_recall_curve, average_precision_score, f1_score, precision_score, recall_score\n",
    "from sklearn.ensemble import RandomForestClassifier\n",
    "from sklearn.svm import SVC\n",
    "from sklearn.tree import DecisionTreeClassifier\n",
    "from sklearn.linear_model import LogisticRegression\n",
    "from sklearn.model_selection import cross_val_score, KFold"
   ]
  },
  {
   "cell_type": "code",
   "execution_count": 57,
   "metadata": {},
   "outputs": [],
   "source": [
    "def make_resume(text):\n",
    "    resume = re.sub('[^a-zA-Z]', ' ', text)\n",
    "    resume = resume.lower()\n",
    "    resume = resume.split()\n",
    "    ps = PorterStemmer()\n",
    "    resume = [ps.stem(word) for word in resume if not word in set(stopwords.words('english'))]\n",
    "    resume = ' '.join(resume)\n",
    "    return resume\n"
   ]
  },
  {
   "cell_type": "code",
   "execution_count": 58,
   "metadata": {},
   "outputs": [
    {
     "name": "stdout",
     "output_type": "stream",
     "text": [
      "<class 'pandas.core.frame.DataFrame'>\n",
      "RangeIndex: 96 entries, 0 to 95\n",
      "Data columns (total 2 columns):\n",
      " #   Column    Non-Null Count  Dtype \n",
      "---  ------    --------------  ----- \n",
      " 0   Category  96 non-null     object\n",
      " 1   Resume    96 non-null     object\n",
      "dtypes: object(2)\n",
      "memory usage: 1.6+ KB\n"
     ]
    },
    {
     "data": {
      "image/png": "[encoded data removed]",
      "text/plain": [
       "<Figure size 640x480 with 1 Axes>"
      ]
     },
     "metadata": {},
     "output_type": "display_data"
    }
   ],
   "source": [
    "#load the dataset\n",
    "df = pd.read_csv('UpdatedResumeDataSet.csv')\n",
    "df.head()\n",
    "df.info()\n",
    "\n",
    "df['Category'].value_counts()\n",
    "df['Category'].value_counts().plot(kind='bar')\n",
    "plt.show()\n",
    "\n",
    "corpus = []\n",
    "for i in range(0, len(df)):\n",
    "    corpus.append(make_resume(df['Resume'][i]))\n",
    "    \n",
    "cv = CountVectorizer(max_features=1500)\n",
    "X = cv.fit_transform(corpus).toarray()\n",
    "y = df['Category']\n",
    "\n",
    "X_train, X_test, y_train, y_test = train_test_split(X, y, test_size=0.2, random_state=42)"
   ]
  },
  {
   "cell_type": "code",
   "execution_count": 52,
   "metadata": {},
   "outputs": [
    {
     "name": "stdout",
     "output_type": "stream",
     "text": [
      "[[2 0 0 0 0 0 0 0]\n",
      " [0 1 0 0 0 0 0 0]\n",
      " [0 0 3 0 0 0 0 0]\n",
      " [0 0 0 2 0 0 0 0]\n",
      " [0 0 0 0 3 0 0 0]\n",
      " [0 0 0 0 0 2 0 0]\n",
      " [0 0 0 0 0 0 3 0]\n",
      " [0 0 0 0 0 0 0 2]]\n",
      "1.0\n",
      "                        precision    recall  f1-score   support\n",
      "\n",
      "         CyberSecurity       1.00      1.00      1.00         2\n",
      "         Cybersecurity       1.00      1.00      1.00         1\n",
      "          Data Science       1.00      1.00      1.00         3\n",
      "                DevOps       1.00      1.00      1.00         2\n",
      "            Full Stack       1.00      1.00      1.00         3\n",
      "Mobile App Development       1.00      1.00      1.00         2\n",
      "            QA Testing       1.00      1.00      1.00         3\n",
      "             UX Design       1.00      1.00      1.00         2\n",
      "\n",
      "              accuracy                           1.00        18\n",
      "             macro avg       1.00      1.00      1.00        18\n",
      "          weighted avg       1.00      1.00      1.00        18\n",
      "\n"
     ]
    }
   ],
   "source": [
    "classifier = RandomForestClassifier()\n",
    "classifier.fit(X_train, y_train)\n",
    "#Predicting the Test set results\n",
    "y_pred = classifier.predict(X_test)\n",
    "#Making the Confusion Matrix\n",
    "cm = confusion_matrix(y_test, y_pred)\n",
    "print(cm)\n",
    "#Accuracy\n",
    "accuracy = accuracy_score(y_test, y_pred)\n",
    "print(accuracy)\n",
    "#Classification Report\n",
    "report = classification_report(y_test, y_pred)\n",
    "print(report)"
   ]
  },
  {
   "cell_type": "code",
   "execution_count": 53,
   "metadata": {},
   "outputs": [],
   "source": [
    "text = \"\"\"\n",
    "Name: Veronica Vortex\n",
    "\n",
    "Contact Information:\n",
    "Email: veronica.vortex@example.com\n",
    "Phone: +1 (555) 123-4567\n",
    "LinkedIn: linkedin.com/in/veronicavortex\n",
    "\n",
    "Professional Summary:\n",
    "Highly motivated and detail-oriented QA Tester with a passion for ensuring product quality and user satisfaction. Skilled in manual and automated testing methodologies, with a knack for uncovering elusive bugs and glitches. Adept at collaborating with cross-functional teams to deliver innovative solutions.\n",
    "\n",
    "Experience:\n",
    "Quality Assurance Engineer - Galactic Technologies (2018-Present)\n",
    "- Conducted rigorous testing on spacecraft navigation software, ensuring flawless performance in high-stakes interstellar missions.\n",
    "- Developed automated testing scripts using alien technology, significantly reducing testing time and improving accuracy.\n",
    "- Investigated mysterious anomalies in spacecraft telemetry data, contributing to the discovery of a previously unknown celestial phenomenon.\n",
    "\n",
    "Education:\n",
    "Bachelor of Science in Astrophysics - Space Academy (2014-2018)\n",
    "- Explored the mysteries of the cosmos and gained expertise in celestial mechanics, astrophysical phenomena, and extraterrestrial communication protocols.\n",
    "- Completed a research project on the potential use of wormholes for intergalactic travel, earning accolades from renowned space scientists.\n",
    "\n",
    "Skills:\n",
    "- Manual Testing: Proficient in conducting exhaustive manual testing on various software applications, including web and mobile platforms.\n",
    "- Automated Testing: Skilled in using state-of-the-art testing tools and frameworks, such as Selenium, to automate testing processes.\n",
    "- Bug Tracking: Experienced in identifying, documenting, and tracking software defects using bug tracking systems like Jira and Bugzilla.\n",
    "- Interstellar Communication: Fluent in multiple alien languages and proficient in communicating with extraterrestrial life forms.\n",
    "- Time Travel: Capable of navigating the space-time continuum to debug software issues in different temporal dimensions.\n",
    "\n",
    "Certifications:\n",
    "- Certified Warp Drive Technician: Completed intensive training in warp field theory and maintenance of warp propulsion systems.\n",
    "- Intergalactic Quality Assurance Specialist: Certified by the Universal Quality Control Consortium for excellence in interstellar quality assurance practices.\n",
    "\n",
    "Additional Interests:\n",
    "In my spare time, I enjoy stargazing, astrophotography, and participating in zero-gravity yoga sessions aboard the International Space Station.\n",
    "\n",
    "References:\n",
    "Available upon request.\n",
    "\n",
    "\"Testing the limits of reality, one bug at a time.\"\n",
    "\"\"\""
   ]
  },
  {
   "cell_type": "code",
   "execution_count": 54,
   "metadata": {},
   "outputs": [
    {
     "data": {
      "text/plain": [
       "array(['QA Testing'], dtype=object)"
      ]
     },
     "execution_count": 54,
     "metadata": {},
     "output_type": "execute_result"
    }
   ],
   "source": [
    "resume = cv.transform([make_resume(text)]).toarray()\n",
    "classifier.predict(resume)"
   ]
  }
 ],
 "metadata": {
  "kernelspec": {
   "display_name": "Python 3",
   "language": "python",
   "name": "python3"
  },
  "language_info": {
   "codemirror_mode": {
    "name": "ipython",
    "version": 3
   },
   "file_extension": ".py",
   "mimetype": "text/x-python",
   "name": "python",
   "nbconvert_exporter": "python",
   "pygments_lexer": "ipython3",
   "version": "3.11.8"
  }
 },
 "nbformat": 4,
 "nbformat_minor": 2
}
